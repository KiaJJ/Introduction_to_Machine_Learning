{
  "cells": [
    {
      "cell_type": "markdown",
      "metadata": {
        "id": "S0lz4fO49hX-"
      },
      "source": [
        "# Run this Notebook\n",
        "\n",
        "[![Open In Colab](https://colab.research.google.com/assets/colab-badge.svg)](https://colab.research.google.com/github/DeepRLCourse/Homework-1-Questions/blob/main/HW1_Notebook.ipynb)  \n",
        "[![Open in Kaggle](https://kaggle.com/static/images/open-in-kaggle.svg)](https://kaggle.com/kernels/welcome?src=https://github.com/DeepRLCourse/Homework-1-Questions/blob/main/HW1_Notebook.ipynb)\n",
        "\n",
        "# HW1: Introduction to RL\n",
        "> - Full Name: **[Full Name]**\n",
        "> - Student ID: **[Stundet ID]**\n",
        "\n",
        "\n",
        "This notebook is designed to provide hands-on experience with RL modeling, algorithm implementation, and performance evaluation. Students will explore RL concepts through predefined environments and custom-designed settings.\n",
        "\n",
        "Follow the instructions in each section to complete the homework."
      ]
    },
    {
      "cell_type": "markdown",
      "metadata": {
        "id": "_MVMgXuu9hX_"
      },
      "source": [
        "## Setup Instructions\n",
        "Seting up RL dependecies for first time may be challenging. Some  torch or gymnasium (Sklearn lib in SL world!) environments need additional set up on your system. If you encountered error and failure after hours of search and try, feel free to be in contact with TA's.  Run the following commands to install dependencies before starting the notebook:\n",
        "\n"
      ]
    },
    {
      "cell_type": "code",
      "execution_count": null,
      "metadata": {
        "id": "PwJlcM67zK6e"
      },
      "outputs": [],
      "source": [
        "!apt-get install x11-utils > /dev/null 2>&1\n",
        "!pip install pyglet > /dev/null 2>&1\n",
        "!apt-get install -y xvfb python-opengl > /dev/null 2>&1\n",
        "!apt-get install xvfb"
      ]
    },
    {
      "cell_type": "code",
      "execution_count": 2,
      "metadata": {
        "id": "Vuzy-9Ky-adf",
        "outputId": "7dc82af3-3bdf-486a-cbf1-c576136dd95e",
        "colab": {
          "base_uri": "https://localhost:8080/"
        }
      },
      "outputs": [
        {
          "metadata": {
            "tags": null
          },
          "name": "stdout",
          "output_type": "stream",
          "text": [
            "Collecting swig\n",
            "  Downloading swig-4.3.0-py2.py3-none-manylinux_2_5_x86_64.manylinux1_x86_64.whl.metadata (3.5 kB)\n",
            "Downloading swig-4.3.0-py2.py3-none-manylinux_2_5_x86_64.manylinux1_x86_64.whl (1.9 MB)\n",
            "\u001b[2K   \u001b[90m━━━━━━━━━━━━━━━━━━━━━━━━━━━━━━━━━━━━━━━━\u001b[0m \u001b[32m1.9/1.9 MB\u001b[0m \u001b[31m30.8 MB/s\u001b[0m eta \u001b[36m0:00:00\u001b[0m\n",
            "\u001b[?25hInstalling collected packages: swig\n",
            "Successfully installed swig-4.3.0\n",
            "Collecting stable-baselines3\n",
            "  Downloading stable_baselines3-2.5.0-py3-none-any.whl.metadata (4.8 kB)\n",
            "Requirement already satisfied: pygame in /usr/local/lib/python3.11/dist-packages (2.6.1)\n",
            "Requirement already satisfied: matplotlib in /usr/local/lib/python3.11/dist-packages (3.10.0)\n",
            "Requirement already satisfied: numpy in /usr/local/lib/python3.11/dist-packages (1.26.4)\n",
            "Requirement already satisfied: pandas in /usr/local/lib/python3.11/dist-packages (2.2.2)\n",
            "Requirement already satisfied: gymnasium[all] in /usr/local/lib/python3.11/dist-packages (1.0.0)\n",
            "Requirement already satisfied: torch<3.0,>=2.3 in /usr/local/lib/python3.11/dist-packages (from stable-baselines3) (2.5.1+cu124)\n",
            "Requirement already satisfied: cloudpickle in /usr/local/lib/python3.11/dist-packages (from stable-baselines3) (3.1.1)\n",
            "Requirement already satisfied: typing-extensions>=4.3.0 in /usr/local/lib/python3.11/dist-packages (from gymnasium[all]) (4.12.2)\n",
            "Requirement already satisfied: farama-notifications>=0.0.1 in /usr/local/lib/python3.11/dist-packages (from gymnasium[all]) (0.0.4)\n",
            "Requirement already satisfied: ale-py>=0.9 in /usr/local/lib/python3.11/dist-packages (from gymnasium[all]) (0.10.1)\n",
            "Collecting box2d-py==2.3.5 (from gymnasium[all])\n",
            "  Downloading box2d-py-2.3.5.tar.gz (374 kB)\n",
            "\u001b[2K     \u001b[90m━━━━━━━━━━━━━━━━━━━━━━━━━━━━━━━━━━━━━━━━\u001b[0m \u001b[32m374.4/374.4 kB\u001b[0m \u001b[31m8.4 MB/s\u001b[0m eta \u001b[36m0:00:00\u001b[0m\n",
            "\u001b[?25h  Preparing metadata (setup.py) ... \u001b[?25l\u001b[?25hdone\n",
            "Requirement already satisfied: swig==4.* in /usr/local/lib/python3.11/dist-packages (from gymnasium[all]) (4.3.0)\n",
            "Collecting mujoco-py<2.2,>=2.1 (from gymnasium[all])\n",
            "  Downloading mujoco_py-2.1.2.14-py3-none-any.whl.metadata (669 bytes)\n",
            "Collecting cython<3 (from gymnasium[all])\n",
            "  Downloading Cython-0.29.37-cp311-cp311-manylinux_2_17_x86_64.manylinux2014_x86_64.manylinux_2_24_x86_64.whl.metadata (3.1 kB)\n",
            "Collecting mujoco>=2.1.5 (from gymnasium[all])\n",
            "  Downloading mujoco-3.2.7-cp311-cp311-manylinux_2_17_x86_64.manylinux2014_x86_64.whl.metadata (44 kB)\n",
            "\u001b[2K     \u001b[90m━━━━━━━━━━━━━━━━━━━━━━━━━━━━━━━━━━━━━━━━\u001b[0m \u001b[32m44.4/44.4 kB\u001b[0m \u001b[31m3.8 MB/s\u001b[0m eta \u001b[36m0:00:00\u001b[0m\n",
            "\u001b[?25hRequirement already satisfied: imageio>=2.14.1 in /usr/local/lib/python3.11/dist-packages (from gymnasium[all]) (2.37.0)\n",
            "Requirement already satisfied: jax>=0.4.0 in /usr/local/lib/python3.11/dist-packages (from gymnasium[all]) (0.4.33)\n",
            "Requirement already satisfied: jaxlib>=0.4.0 in /usr/local/lib/python3.11/dist-packages (from gymnasium[all]) (0.4.33)\n",
            "Requirement already satisfied: flax>=0.5.0 in /usr/local/lib/python3.11/dist-packages (from gymnasium[all]) (0.10.3)\n",
            "Requirement already satisfied: opencv-python>=3.0 in /usr/local/lib/python3.11/dist-packages (from gymnasium[all]) (4.11.0.86)\n",
            "Requirement already satisfied: moviepy>=1.0.0 in /usr/local/lib/python3.11/dist-packages (from gymnasium[all]) (1.0.3)\n",
            "Requirement already satisfied: contourpy>=1.0.1 in /usr/local/lib/python3.11/dist-packages (from matplotlib) (1.3.1)\n",
            "Requirement already satisfied: cycler>=0.10 in /usr/local/lib/python3.11/dist-packages (from matplotlib) (0.12.1)\n",
            "Requirement already satisfied: fonttools>=4.22.0 in /usr/local/lib/python3.11/dist-packages (from matplotlib) (4.56.0)\n",
            "Requirement already satisfied: kiwisolver>=1.3.1 in /usr/local/lib/python3.11/dist-packages (from matplotlib) (1.4.8)\n",
            "Requirement already satisfied: packaging>=20.0 in /usr/local/lib/python3.11/dist-packages (from matplotlib) (24.2)\n",
            "Requirement already satisfied: pillow>=8 in /usr/local/lib/python3.11/dist-packages (from matplotlib) (11.1.0)\n",
            "Requirement already satisfied: pyparsing>=2.3.1 in /usr/local/lib/python3.11/dist-packages (from matplotlib) (3.2.1)\n",
            "Requirement already satisfied: python-dateutil>=2.7 in /usr/local/lib/python3.11/dist-packages (from matplotlib) (2.8.2)\n",
            "Requirement already satisfied: pytz>=2020.1 in /usr/local/lib/python3.11/dist-packages (from pandas) (2025.1)\n",
            "Requirement already satisfied: tzdata>=2022.7 in /usr/local/lib/python3.11/dist-packages (from pandas) (2025.1)\n",
            "Requirement already satisfied: msgpack in /usr/local/lib/python3.11/dist-packages (from flax>=0.5.0->gymnasium[all]) (1.1.0)\n",
            "Requirement already satisfied: optax in /usr/local/lib/python3.11/dist-packages (from flax>=0.5.0->gymnasium[all]) (0.2.4)\n",
            "Requirement already satisfied: orbax-checkpoint in /usr/local/lib/python3.11/dist-packages (from flax>=0.5.0->gymnasium[all]) (0.6.4)\n",
            "Requirement already satisfied: tensorstore in /usr/local/lib/python3.11/dist-packages (from flax>=0.5.0->gymnasium[all]) (0.1.71)\n",
            "Requirement already satisfied: rich>=11.1 in /usr/local/lib/python3.11/dist-packages (from flax>=0.5.0->gymnasium[all]) (13.9.4)\n",
            "Requirement already satisfied: PyYAML>=5.4.1 in /usr/local/lib/python3.11/dist-packages (from flax>=0.5.0->gymnasium[all]) (6.0.2)\n",
            "Requirement already satisfied: treescope>=0.1.7 in /usr/local/lib/python3.11/dist-packages (from flax>=0.5.0->gymnasium[all]) (0.1.8)\n",
            "Requirement already satisfied: ml-dtypes>=0.2.0 in /usr/local/lib/python3.11/dist-packages (from jax>=0.4.0->gymnasium[all]) (0.4.1)\n",
            "Requirement already satisfied: opt-einsum in /usr/local/lib/python3.11/dist-packages (from jax>=0.4.0->gymnasium[all]) (3.4.0)\n",
            "Requirement already satisfied: scipy>=1.10 in /usr/local/lib/python3.11/dist-packages (from jax>=0.4.0->gymnasium[all]) (1.13.1)\n",
            "Requirement already satisfied: decorator<5.0,>=4.0.2 in /usr/local/lib/python3.11/dist-packages (from moviepy>=1.0.0->gymnasium[all]) (4.4.2)\n",
            "Requirement already satisfied: imageio_ffmpeg>=0.2.0 in /usr/local/lib/python3.11/dist-packages (from moviepy>=1.0.0->gymnasium[all]) (0.6.0)\n",
            "Requirement already satisfied: tqdm<5.0,>=4.11.2 in /usr/local/lib/python3.11/dist-packages (from moviepy>=1.0.0->gymnasium[all]) (4.67.1)\n",
            "Requirement already satisfied: requests<3.0,>=2.8.1 in /usr/local/lib/python3.11/dist-packages (from moviepy>=1.0.0->gymnasium[all]) (2.32.3)\n",
            "Requirement already satisfied: proglog<=1.0.0 in /usr/local/lib/python3.11/dist-packages (from moviepy>=1.0.0->gymnasium[all]) (0.1.10)\n",
            "Requirement already satisfied: absl-py in /usr/local/lib/python3.11/dist-packages (from mujoco>=2.1.5->gymnasium[all]) (1.4.0)\n",
            "Requirement already satisfied: etils[epath] in /usr/local/lib/python3.11/dist-packages (from mujoco>=2.1.5->gymnasium[all]) (1.12.0)\n",
            "Collecting glfw (from mujoco>=2.1.5->gymnasium[all])\n",
            "  Downloading glfw-2.8.0-py2.py27.py3.py30.py31.py32.py33.py34.py35.py36.py37.py38.p39.p310.p311.p312.p313-none-manylinux_2_28_x86_64.whl.metadata (5.4 kB)\n",
            "Requirement already satisfied: pyopengl in /usr/local/lib/python3.11/dist-packages (from mujoco>=2.1.5->gymnasium[all]) (3.1.9)\n",
            "Requirement already satisfied: cffi>=1.10 in /usr/local/lib/python3.11/dist-packages (from mujoco-py<2.2,>=2.1->gymnasium[all]) (1.17.1)\n",
            "Collecting fasteners~=0.15 (from mujoco-py<2.2,>=2.1->gymnasium[all])\n",
            "  Downloading fasteners-0.19-py3-none-any.whl.metadata (4.9 kB)\n",
            "Requirement already satisfied: six>=1.5 in /usr/local/lib/python3.11/dist-packages (from python-dateutil>=2.7->matplotlib) (1.17.0)\n",
            "Requirement already satisfied: filelock in /usr/local/lib/python3.11/dist-packages (from torch<3.0,>=2.3->stable-baselines3) (3.17.0)\n",
            "Requirement already satisfied: networkx in /usr/local/lib/python3.11/dist-packages (from torch<3.0,>=2.3->stable-baselines3) (3.4.2)\n",
            "Requirement already satisfied: jinja2 in /usr/local/lib/python3.11/dist-packages (from torch<3.0,>=2.3->stable-baselines3) (3.1.5)\n",
            "Requirement already satisfied: fsspec in /usr/local/lib/python3.11/dist-packages (from torch<3.0,>=2.3->stable-baselines3) (2024.10.0)\n",
            "Collecting nvidia-cuda-nvrtc-cu12==12.4.127 (from torch<3.0,>=2.3->stable-baselines3)\n",
            "  Downloading nvidia_cuda_nvrtc_cu12-12.4.127-py3-none-manylinux2014_x86_64.whl.metadata (1.5 kB)\n",
            "Collecting nvidia-cuda-runtime-cu12==12.4.127 (from torch<3.0,>=2.3->stable-baselines3)\n",
            "  Downloading nvidia_cuda_runtime_cu12-12.4.127-py3-none-manylinux2014_x86_64.whl.metadata (1.5 kB)\n",
            "Collecting nvidia-cuda-cupti-cu12==12.4.127 (from torch<3.0,>=2.3->stable-baselines3)\n",
            "  Downloading nvidia_cuda_cupti_cu12-12.4.127-py3-none-manylinux2014_x86_64.whl.metadata (1.6 kB)\n",
            "Collecting nvidia-cudnn-cu12==9.1.0.70 (from torch<3.0,>=2.3->stable-baselines3)\n",
            "  Downloading nvidia_cudnn_cu12-9.1.0.70-py3-none-manylinux2014_x86_64.whl.metadata (1.6 kB)\n",
            "Collecting nvidia-cublas-cu12==12.4.5.8 (from torch<3.0,>=2.3->stable-baselines3)\n",
            "  Downloading nvidia_cublas_cu12-12.4.5.8-py3-none-manylinux2014_x86_64.whl.metadata (1.5 kB)\n",
            "Collecting nvidia-cufft-cu12==11.2.1.3 (from torch<3.0,>=2.3->stable-baselines3)\n",
            "  Downloading nvidia_cufft_cu12-11.2.1.3-py3-none-manylinux2014_x86_64.whl.metadata (1.5 kB)\n",
            "Collecting nvidia-curand-cu12==10.3.5.147 (from torch<3.0,>=2.3->stable-baselines3)\n",
            "  Downloading nvidia_curand_cu12-10.3.5.147-py3-none-manylinux2014_x86_64.whl.metadata (1.5 kB)\n",
            "Collecting nvidia-cusolver-cu12==11.6.1.9 (from torch<3.0,>=2.3->stable-baselines3)\n",
            "  Downloading nvidia_cusolver_cu12-11.6.1.9-py3-none-manylinux2014_x86_64.whl.metadata (1.6 kB)\n",
            "Collecting nvidia-cusparse-cu12==12.3.1.170 (from torch<3.0,>=2.3->stable-baselines3)\n",
            "  Downloading nvidia_cusparse_cu12-12.3.1.170-py3-none-manylinux2014_x86_64.whl.metadata (1.6 kB)\n",
            "Requirement already satisfied: nvidia-nccl-cu12==2.21.5 in /usr/local/lib/python3.11/dist-packages (from torch<3.0,>=2.3->stable-baselines3) (2.21.5)\n",
            "Requirement already satisfied: nvidia-nvtx-cu12==12.4.127 in /usr/local/lib/python3.11/dist-packages (from torch<3.0,>=2.3->stable-baselines3) (12.4.127)\n",
            "Collecting nvidia-nvjitlink-cu12==12.4.127 (from torch<3.0,>=2.3->stable-baselines3)\n",
            "  Downloading nvidia_nvjitlink_cu12-12.4.127-py3-none-manylinux2014_x86_64.whl.metadata (1.5 kB)\n",
            "Requirement already satisfied: triton==3.1.0 in /usr/local/lib/python3.11/dist-packages (from torch<3.0,>=2.3->stable-baselines3) (3.1.0)\n",
            "Requirement already satisfied: sympy==1.13.1 in /usr/local/lib/python3.11/dist-packages (from torch<3.0,>=2.3->stable-baselines3) (1.13.1)\n",
            "Requirement already satisfied: mpmath<1.4,>=1.1.0 in /usr/local/lib/python3.11/dist-packages (from sympy==1.13.1->torch<3.0,>=2.3->stable-baselines3) (1.3.0)\n",
            "Requirement already satisfied: pycparser in /usr/local/lib/python3.11/dist-packages (from cffi>=1.10->mujoco-py<2.2,>=2.1->gymnasium[all]) (2.22)\n",
            "Requirement already satisfied: charset-normalizer<4,>=2 in /usr/local/lib/python3.11/dist-packages (from requests<3.0,>=2.8.1->moviepy>=1.0.0->gymnasium[all]) (3.4.1)\n",
            "Requirement already satisfied: idna<4,>=2.5 in /usr/local/lib/python3.11/dist-packages (from requests<3.0,>=2.8.1->moviepy>=1.0.0->gymnasium[all]) (3.10)\n",
            "Requirement already satisfied: urllib3<3,>=1.21.1 in /usr/local/lib/python3.11/dist-packages (from requests<3.0,>=2.8.1->moviepy>=1.0.0->gymnasium[all]) (2.3.0)\n",
            "Requirement already satisfied: certifi>=2017.4.17 in /usr/local/lib/python3.11/dist-packages (from requests<3.0,>=2.8.1->moviepy>=1.0.0->gymnasium[all]) (2025.1.31)\n",
            "Requirement already satisfied: markdown-it-py>=2.2.0 in /usr/local/lib/python3.11/dist-packages (from rich>=11.1->flax>=0.5.0->gymnasium[all]) (3.0.0)\n",
            "Requirement already satisfied: pygments<3.0.0,>=2.13.0 in /usr/local/lib/python3.11/dist-packages (from rich>=11.1->flax>=0.5.0->gymnasium[all]) (2.18.0)\n",
            "Requirement already satisfied: importlib_resources in /usr/local/lib/python3.11/dist-packages (from etils[epath]->mujoco>=2.1.5->gymnasium[all]) (6.5.2)\n",
            "Requirement already satisfied: zipp in /usr/local/lib/python3.11/dist-packages (from etils[epath]->mujoco>=2.1.5->gymnasium[all]) (3.21.0)\n",
            "Requirement already satisfied: MarkupSafe>=2.0 in /usr/local/lib/python3.11/dist-packages (from jinja2->torch<3.0,>=2.3->stable-baselines3) (3.0.2)\n",
            "Requirement already satisfied: chex>=0.1.87 in /usr/local/lib/python3.11/dist-packages (from optax->flax>=0.5.0->gymnasium[all]) (0.1.88)\n",
            "Requirement already satisfied: nest_asyncio in /usr/local/lib/python3.11/dist-packages (from orbax-checkpoint->flax>=0.5.0->gymnasium[all]) (1.6.0)\n",
            "Requirement already satisfied: protobuf in /usr/local/lib/python3.11/dist-packages (from orbax-checkpoint->flax>=0.5.0->gymnasium[all]) (4.25.6)\n",
            "Requirement already satisfied: humanize in /usr/local/lib/python3.11/dist-packages (from orbax-checkpoint->flax>=0.5.0->gymnasium[all]) (4.11.0)\n",
            "Requirement already satisfied: toolz>=0.9.0 in /usr/local/lib/python3.11/dist-packages (from chex>=0.1.87->optax->flax>=0.5.0->gymnasium[all]) (0.12.1)\n",
            "Requirement already satisfied: mdurl~=0.1 in /usr/local/lib/python3.11/dist-packages (from markdown-it-py>=2.2.0->rich>=11.1->flax>=0.5.0->gymnasium[all]) (0.1.2)\n",
            "Downloading stable_baselines3-2.5.0-py3-none-any.whl (183 kB)\n",
            "\u001b[2K   \u001b[90m━━━━━━━━━━━━━━━━━━━━━━━━━━━━━━━━━━━━━━━━\u001b[0m \u001b[32m183.9/183.9 kB\u001b[0m \u001b[31m17.8 MB/s\u001b[0m eta \u001b[36m0:00:00\u001b[0m\n",
            "\u001b[?25hDownloading Cython-0.29.37-cp311-cp311-manylinux_2_17_x86_64.manylinux2014_x86_64.manylinux_2_24_x86_64.whl (1.9 MB)\n",
            "\u001b[2K   \u001b[90m━━━━━━━━━━━━━━━━━━━━━━━━━━━━━━━━━━━━━━━━\u001b[0m \u001b[32m1.9/1.9 MB\u001b[0m \u001b[31m71.4 MB/s\u001b[0m eta \u001b[36m0:00:00\u001b[0m\n",
            "\u001b[?25hDownloading mujoco-3.2.7-cp311-cp311-manylinux_2_17_x86_64.manylinux2014_x86_64.whl (6.4 MB)\n",
            "\u001b[2K   \u001b[90m━━━━━━━━━━━━━━━━━━━━━━━━━━━━━━━━━━━━━━━━\u001b[0m \u001b[32m6.4/6.4 MB\u001b[0m \u001b[31m117.7 MB/s\u001b[0m eta \u001b[36m0:00:00\u001b[0m\n",
            "\u001b[?25hDownloading mujoco_py-2.1.2.14-py3-none-any.whl (2.4 MB)\n",
            "\u001b[2K   \u001b[90m━━━━━━━━━━━━━━━━━━━━━━━━━━━━━━━━━━━━━━━━\u001b[0m \u001b[32m2.4/2.4 MB\u001b[0m \u001b[31m93.8 MB/s\u001b[0m eta \u001b[36m0:00:00\u001b[0m\n",
            "\u001b[?25hDownloading nvidia_cublas_cu12-12.4.5.8-py3-none-manylinux2014_x86_64.whl (363.4 MB)\n",
            "\u001b[2K   \u001b[90m━━━━━━━━━━━━━━━━━━━━━━━━━━━━━━━━━━━━━━━━\u001b[0m \u001b[32m363.4/363.4 MB\u001b[0m \u001b[31m3.7 MB/s\u001b[0m eta \u001b[36m0:00:00\u001b[0m\n",
            "\u001b[?25hDownloading nvidia_cuda_cupti_cu12-12.4.127-py3-none-manylinux2014_x86_64.whl (13.8 MB)\n",
            "\u001b[2K   \u001b[90m━━━━━━━━━━━━━━━━━━━━━━━━━━━━━━━━━━━━━━━━\u001b[0m \u001b[32m13.8/13.8 MB\u001b[0m \u001b[31m67.3 MB/s\u001b[0m eta \u001b[36m0:00:00\u001b[0m\n",
            "\u001b[?25hDownloading nvidia_cuda_nvrtc_cu12-12.4.127-py3-none-manylinux2014_x86_64.whl (24.6 MB)\n",
            "\u001b[2K   \u001b[90m━━━━━━━━━━━━━━━━━━━━━━━━━━━━━━━━━━━━━━━━\u001b[0m \u001b[32m24.6/24.6 MB\u001b[0m \u001b[31m35.8 MB/s\u001b[0m eta \u001b[36m0:00:00\u001b[0m\n",
            "\u001b[?25hDownloading nvidia_cuda_runtime_cu12-12.4.127-py3-none-manylinux2014_x86_64.whl (883 kB)\n",
            "\u001b[2K   \u001b[90m━━━━━━━━━━━━━━━━━━━━━━━━━━━━━━━━━━━━━━━━\u001b[0m \u001b[32m883.7/883.7 kB\u001b[0m \u001b[31m47.4 MB/s\u001b[0m eta \u001b[36m0:00:00\u001b[0m\n",
            "\u001b[?25hDownloading nvidia_cudnn_cu12-9.1.0.70-py3-none-manylinux2014_x86_64.whl (664.8 MB)\n",
            "\u001b[2K   \u001b[90m━━━━━━━━━━━━━━━━━━━━━━━━━━━━━━━━━━━━━━━━\u001b[0m \u001b[32m664.8/664.8 MB\u001b[0m \u001b[31m2.6 MB/s\u001b[0m eta \u001b[36m0:00:00\u001b[0m\n",
            "\u001b[?25hDownloading nvidia_cufft_cu12-11.2.1.3-py3-none-manylinux2014_x86_64.whl (211.5 MB)\n",
            "\u001b[2K   \u001b[90m━━━━━━━━━━━━━━━━━━━━━━━━━━━━━━━━━━━━━━━━\u001b[0m \u001b[32m211.5/211.5 MB\u001b[0m \u001b[31m6.3 MB/s\u001b[0m eta \u001b[36m0:00:00\u001b[0m\n",
            "\u001b[?25hDownloading nvidia_curand_cu12-10.3.5.147-py3-none-manylinux2014_x86_64.whl (56.3 MB)\n",
            "\u001b[2K   \u001b[90m━━━━━━━━━━━━━━━━━━━━━━━━━━━━━━━━━━━━━━━━\u001b[0m \u001b[32m56.3/56.3 MB\u001b[0m \u001b[31m12.4 MB/s\u001b[0m eta \u001b[36m0:00:00\u001b[0m\n",
            "\u001b[?25hDownloading nvidia_cusolver_cu12-11.6.1.9-py3-none-manylinux2014_x86_64.whl (127.9 MB)\n",
            "\u001b[2K   \u001b[90m━━━━━━━━━━━━━━━━━━━━━━━━━━━━━━━━━━━━━━━━\u001b[0m \u001b[32m127.9/127.9 MB\u001b[0m \u001b[31m7.4 MB/s\u001b[0m eta \u001b[36m0:00:00\u001b[0m\n",
            "\u001b[?25hDownloading nvidia_cusparse_cu12-12.3.1.170-py3-none-manylinux2014_x86_64.whl (207.5 MB)\n",
            "\u001b[2K   \u001b[90m━━━━━━━━━━━━━━━━━━━━━━━━━━━━━━━━━━━━━━━━\u001b[0m \u001b[32m207.5/207.5 MB\u001b[0m \u001b[31m5.5 MB/s\u001b[0m eta \u001b[36m0:00:00\u001b[0m\n",
            "\u001b[?25hDownloading nvidia_nvjitlink_cu12-12.4.127-py3-none-manylinux2014_x86_64.whl (21.1 MB)\n",
            "\u001b[2K   \u001b[90m━━━━━━━━━━━━━━━━━━━━━━━━━━━━━━━━━━━━━━━━\u001b[0m \u001b[32m21.1/21.1 MB\u001b[0m \u001b[31m43.9 MB/s\u001b[0m eta \u001b[36m0:00:00\u001b[0m\n",
            "\u001b[?25hDownloading fasteners-0.19-py3-none-any.whl (18 kB)\n",
            "Downloading glfw-2.8.0-py2.py27.py3.py30.py31.py32.py33.py34.py35.py36.py37.py38.p39.p310.p311.p312.p313-none-manylinux_2_28_x86_64.whl (243 kB)\n",
            "\u001b[2K   \u001b[90m━━━━━━━━━━━━━━━━━━━━━━━━━━━━━━━━━━━━━━━━\u001b[0m \u001b[32m243.4/243.4 kB\u001b[0m \u001b[31m22.9 MB/s\u001b[0m eta \u001b[36m0:00:00\u001b[0m\n",
            "\u001b[?25hBuilding wheels for collected packages: box2d-py\n",
            "  Building wheel for box2d-py (setup.py) ... \u001b[?25l\u001b[?25hdone\n",
            "  Created wheel for box2d-py: filename=box2d_py-2.3.5-cp311-cp311-linux_x86_64.whl size=2379496 sha256=d0e813cca4d8cb0c096036ad18270c0b3d32895352843dbe8964eb098a8b44cf\n",
            "  Stored in directory: /root/.cache/pip/wheels/ab/f1/0c/d56f4a2bdd12bae0a0693ec33f2f0daadb5eb9753c78fa5308\n",
            "Successfully built box2d-py\n",
            "Installing collected packages: glfw, box2d-py, nvidia-nvjitlink-cu12, nvidia-curand-cu12, nvidia-cufft-cu12, nvidia-cuda-runtime-cu12, nvidia-cuda-nvrtc-cu12, nvidia-cuda-cupti-cu12, nvidia-cublas-cu12, fasteners, cython, nvidia-cusparse-cu12, nvidia-cudnn-cu12, mujoco-py, nvidia-cusolver-cu12, mujoco, stable-baselines3\n",
            "  Attempting uninstall: nvidia-nvjitlink-cu12\n",
            "    Found existing installation: nvidia-nvjitlink-cu12 12.5.82\n",
            "    Uninstalling nvidia-nvjitlink-cu12-12.5.82:\n",
            "      Successfully uninstalled nvidia-nvjitlink-cu12-12.5.82\n",
            "  Attempting uninstall: nvidia-curand-cu12\n",
            "    Found existing installation: nvidia-curand-cu12 10.3.6.82\n",
            "    Uninstalling nvidia-curand-cu12-10.3.6.82:\n",
            "      Successfully uninstalled nvidia-curand-cu12-10.3.6.82\n",
            "  Attempting uninstall: nvidia-cufft-cu12\n",
            "    Found existing installation: nvidia-cufft-cu12 11.2.3.61\n",
            "    Uninstalling nvidia-cufft-cu12-11.2.3.61:\n",
            "      Successfully uninstalled nvidia-cufft-cu12-11.2.3.61\n",
            "  Attempting uninstall: nvidia-cuda-runtime-cu12\n",
            "    Found existing installation: nvidia-cuda-runtime-cu12 12.5.82\n",
            "    Uninstalling nvidia-cuda-runtime-cu12-12.5.82:\n",
            "      Successfully uninstalled nvidia-cuda-runtime-cu12-12.5.82\n",
            "  Attempting uninstall: nvidia-cuda-nvrtc-cu12\n",
            "    Found existing installation: nvidia-cuda-nvrtc-cu12 12.5.82\n",
            "    Uninstalling nvidia-cuda-nvrtc-cu12-12.5.82:\n",
            "      Successfully uninstalled nvidia-cuda-nvrtc-cu12-12.5.82\n",
            "  Attempting uninstall: nvidia-cuda-cupti-cu12\n",
            "    Found existing installation: nvidia-cuda-cupti-cu12 12.5.82\n",
            "    Uninstalling nvidia-cuda-cupti-cu12-12.5.82:\n",
            "      Successfully uninstalled nvidia-cuda-cupti-cu12-12.5.82\n",
            "  Attempting uninstall: nvidia-cublas-cu12\n",
            "    Found existing installation: nvidia-cublas-cu12 12.5.3.2\n",
            "    Uninstalling nvidia-cublas-cu12-12.5.3.2:\n",
            "      Successfully uninstalled nvidia-cublas-cu12-12.5.3.2\n",
            "  Attempting uninstall: cython\n",
            "    Found existing installation: Cython 3.0.12\n",
            "    Uninstalling Cython-3.0.12:\n",
            "      Successfully uninstalled Cython-3.0.12\n",
            "  Attempting uninstall: nvidia-cusparse-cu12\n",
            "    Found existing installation: nvidia-cusparse-cu12 12.5.1.3\n",
            "    Uninstalling nvidia-cusparse-cu12-12.5.1.3:\n",
            "      Successfully uninstalled nvidia-cusparse-cu12-12.5.1.3\n",
            "  Attempting uninstall: nvidia-cudnn-cu12\n",
            "    Found existing installation: nvidia-cudnn-cu12 9.3.0.75\n",
            "    Uninstalling nvidia-cudnn-cu12-9.3.0.75:\n",
            "      Successfully uninstalled nvidia-cudnn-cu12-9.3.0.75\n",
            "  Attempting uninstall: nvidia-cusolver-cu12\n",
            "    Found existing installation: nvidia-cusolver-cu12 11.6.3.83\n",
            "    Uninstalling nvidia-cusolver-cu12-11.6.3.83:\n",
            "      Successfully uninstalled nvidia-cusolver-cu12-11.6.3.83\n",
            "Successfully installed box2d-py-2.3.5 cython-0.29.37 fasteners-0.19 glfw-2.8.0 mujoco-3.2.7 mujoco-py-2.1.2.14 nvidia-cublas-cu12-12.4.5.8 nvidia-cuda-cupti-cu12-12.4.127 nvidia-cuda-nvrtc-cu12-12.4.127 nvidia-cuda-runtime-cu12-12.4.127 nvidia-cudnn-cu12-9.1.0.70 nvidia-cufft-cu12-11.2.1.3 nvidia-curand-cu12-10.3.5.147 nvidia-cusolver-cu12-11.6.1.9 nvidia-cusparse-cu12-12.3.1.170 nvidia-nvjitlink-cu12-12.4.127 stable-baselines3-2.5.0\n"
          ]
        }
      ],
      "source": [
        "!pip install pyvirtualdisplay > /dev/null 2>&1\n",
        "!pip install swig\n",
        "!pip install stable-baselines3 \"gymnasium[all]\" pygame matplotlib numpy pandas"
      ]
    },
    {
      "cell_type": "markdown",
      "metadata": {
        "id": "IsiukyCaeaIb"
      },
      "source": [
        "Hamid is CE student who loves learning about RL. He tried to use **Gymnasium** and **Stable-Baselines3** to solve games he played as a kid.  \n",
        "\n",
        "He started to list the games which was provided in gymnasium library."
      ]
    },
    {
      "cell_type": "code",
      "execution_count": 3,
      "metadata": {
        "colab": {
          "base_uri": "https://localhost:8080/"
        },
        "id": "iKSNMhzw1qIU",
        "outputId": "d2abb367-be09-461c-c348-d1e539a2ca45"
      },
      "outputs": [
        {
          "metadata": {
            "tags": null
          },
          "name": "stdout",
          "output_type": "stream",
          "text": [
            "Gymnasium envs listed: ['Acrobot-v1', 'Ant-v2', 'Ant-v3', 'Ant-v4', 'Ant-v5', 'BipedalWalker-v3', 'BipedalWalkerHardcore-v3', 'Blackjack-v1', 'CarRacing-v3', 'CartPole-v0', 'CartPole-v1', 'CliffWalking-v0', 'FrozenLake-v1', 'FrozenLake8x8-v1', 'GymV21Environment-v0', 'GymV26Environment-v0', 'HalfCheetah-v2', 'HalfCheetah-v3', 'HalfCheetah-v4', 'HalfCheetah-v5', 'Hopper-v2', 'Hopper-v3', 'Hopper-v4', 'Hopper-v5', 'Humanoid-v2', 'Humanoid-v3', 'Humanoid-v4', 'Humanoid-v5', 'HumanoidStandup-v2', 'HumanoidStandup-v4', 'HumanoidStandup-v5', 'InvertedDoublePendulum-v2', 'InvertedDoublePendulum-v4', 'InvertedDoublePendulum-v5', 'InvertedPendulum-v2', 'InvertedPendulum-v4', 'InvertedPendulum-v5', 'LunarLander-v3', 'LunarLanderContinuous-v3', 'MountainCar-v0', 'MountainCarContinuous-v0', 'Pendulum-v1', 'Pusher-v2', 'Pusher-v4', 'Pusher-v5', 'Reacher-v2', 'Reacher-v4', 'Reacher-v5', 'Swimmer-v2', 'Swimmer-v3', 'Swimmer-v4', 'Swimmer-v5', 'Taxi-v3', 'Walker2d-v2', 'Walker2d-v3', 'Walker2d-v4', 'Walker2d-v5', 'phys2d/CartPole-v0', 'phys2d/CartPole-v1', 'phys2d/Pendulum-v0', 'tabular/Blackjack-v0', 'tabular/CliffWalking-v0']\n"
          ]
        }
      ],
      "source": [
        "from gymnasium import envs\n",
        "\n",
        "all_envs = envs.registry\n",
        "env_ids = [env_spec  for env_spec in all_envs]\n",
        "print(\"Gymnasium envs listed:\",sorted(env_ids))"
      ]
    },
    {
      "cell_type": "markdown",
      "metadata": {
        "id": "hVzichGh12ct"
      },
      "source": [
        "Then He selected Mountain Car Game to work with:"
      ]
    },
    {
      "cell_type": "code",
      "execution_count": 4,
      "metadata": {
        "colab": {
          "base_uri": "https://localhost:8080/"
        },
        "id": "dVGRaUWo11hG",
        "outputId": "f50b73fb-be61-46ba-919f-ddb2bc6a4fab"
      },
      "outputs": [
        {
          "metadata": {
            "tags": null
          },
          "name": "stdout",
          "output_type": "stream",
          "text": [
            "Action Space Discrete(3)\n",
            "State Space Box([-1.2  -0.07], [0.6  0.07], (2,), float32)\n",
            "Action Example: 0\n",
            "State Example: [-0.5768045   0.04370771]\n"
          ]
        }
      ],
      "source": [
        "import gymnasium as gym\n",
        "env = gym.make(\"MountainCar-v0\", render_mode=\"rgb_array\", goal_velocity=0.1)\n",
        "\n",
        "print(\"Action Space {}\".format(env.action_space))\n",
        "print(\"State Space {}\".format(env.observation_space))\n",
        "\n",
        "print(\"Action Example: {}\".format(env.action_space.sample()))\n",
        "print(\"State Example: {}\".format(env.observation_space.sample()))"
      ]
    },
    {
      "cell_type": "markdown",
      "metadata": {
        "id": "P-QL4hvx0RPw"
      },
      "source": [
        "Hamid wanted to visualize the env for better understandig of gym envs. He had two options:\n",
        "\n",
        "\n",
        "1.   rendering inside the colab\n",
        "2.   rendering as video file\n",
        "\n"
      ]
    },
    {
      "cell_type": "markdown",
      "metadata": {
        "id": "uP6zKPjw20V7"
      },
      "source": [
        "For ploting the game **inside** the colab he used **pyvirtualdisplay** package:"
      ]
    },
    {
      "cell_type": "code",
      "execution_count": 5,
      "metadata": {
        "colab": {
          "base_uri": "https://localhost:8080/"
        },
        "id": "pf1WFJOS2z5W",
        "outputId": "547d82f3-2343-445a-8144-511ae37673a2"
      },
      "outputs": [
        {
          "data": {
            "text/plain": [
              "<pyvirtualdisplay.display.Display at 0x7eaa76dd4190>"
            ]
          },
          "execution_count": 5,
          "metadata": {},
          "output_type": "execute_result"
        }
      ],
      "source": [
        "from pyvirtualdisplay import Display\n",
        "import numpy as np\n",
        "import matplotlib.pyplot as plt\n",
        "from IPython import display as ipythondisplay\n",
        "\n",
        "display = Display(visible=0, size=(400, 300))\n",
        "display.start()"
      ]
    },
    {
      "cell_type": "markdown",
      "metadata": {
        "id": "PxNakxbA40x8"
      },
      "source": [
        "So He started modify the code to learn how action works and plot it. He selected action of\n",
        "\n",
        " *`2: Accelerate to the right`*\n",
        "\n",
        "For every state of car."
      ]
    },
    {
      "cell_type": "code",
      "execution_count": 6,
      "metadata": {
        "colab": {
          "base_uri": "https://localhost:8080/",
          "height": 396
        },
        "id": "Y_Q3way92dWf",
        "outputId": "b3f2b80a-866b-419b-f096-ae5fcdfa78d3"
      },
      "outputs": [
        {
          "data": {
            "image/png": "[encoded data removed]",
            "text/plain": [
              "<Figure size 640x480 with 1 Axes>"
            ]
          },
          "metadata": {},
          "output_type": "display_data"
        }
      ],
      "source": [
        "env.reset()\n",
        "prev_screen = env.render( )\n",
        "plt.imshow(prev_screen)\n",
        "\n",
        "for i in range(40):\n",
        "  # action = env.action_space.sample()  # Random action\n",
        "  action = 2 # Action Hamid modified to practice\n",
        "  obs, reward,terminated, truncated, info = env.step(action)\n",
        "  screen = env.render()\n",
        "\n",
        "  plt.imshow(screen)\n",
        "  ipythondisplay.clear_output(wait=True)\n",
        "  ipythondisplay.display(plt.gcf())\n",
        "\n",
        "  if terminated:\n",
        "    break\n",
        "\n",
        "ipythondisplay.clear_output(wait=True)\n",
        "env.close()"
      ]
    },
    {
      "cell_type": "markdown",
      "metadata": {
        "id": "L-wa1iuOt4am"
      },
      "source": [
        "But for saving game as **video** he defined a function (it's okay if you don't understand just try to run the code and see the output, then try to modify envs!):"
      ]
    },
    {
      "cell_type": "code",
      "execution_count": 7,
      "metadata": {
        "id": "bhc87xchyeHl"
      },
      "outputs": [],
      "source": [
        "import logging\n",
        "from gymnasium.wrappers import RecordEpisodeStatistics, RecordVideo\n",
        "\n",
        "training_period = 250  # record the agent's episode every 250\n",
        "num_training_episodes = 1000  # total number of training episodes\n",
        "\n",
        "env = gym.make(\"MountainCar-v0\", render_mode=\"rgb_array\")\n",
        "env = RecordVideo(env, video_folder=\"MountainCar-v0-agent\", name_prefix=\"training\",\n",
        "                  episode_trigger=lambda x: x % training_period == 0)\n",
        "env = RecordEpisodeStatistics(env)\n",
        "\n",
        "for episode_num in range(num_training_episodes):\n",
        "    obs, info = env.reset()\n",
        "\n",
        "    episode_over = False\n",
        "    while not episode_over:\n",
        "        action = env.action_space.sample()  # replace with actual agent\n",
        "        obs, reward, terminated, truncated, info = env.step(action)\n",
        "\n",
        "        episode_over = terminated or truncated\n",
        "\n",
        "    logging.info(f\"episode-{episode_num}\", info[\"episode\"])\n",
        "env.close()"
      ]
    },
    {
      "cell_type": "markdown",
      "metadata": {
        "id": "1ZKGl8Ql35k_"
      },
      "source": [
        "The videos are in MountainCar-v0-agent folder of your colab folder."
      ]
    },
    {
      "cell_type": "markdown",
      "metadata": {
        "id": "zfj5rCD1hQ0I"
      },
      "source": [
        "But the car couldn't reach the goal state on top of the right hill. So he tried to implement RL algorithm for learning it"
      ]
    },
    {
      "cell_type": "code",
      "execution_count": 8,
      "metadata": {
        "colab": {
          "base_uri": "https://localhost:8080/"
        },
        "id": "bjdTspf-hYeU",
        "outputId": "db18be3c-bf53-48be-9903-aa9801deb85b"
      },
      "outputs": [
        {
          "metadata": {
            "tags": null
          },
          "name": "stdout",
          "output_type": "stream",
          "text": [
            "Using cuda device\n"
          ]
        },
        {
          "metadata": {
            "tags": null
          },
          "name": "stderr",
          "output_type": "stream",
          "text": [
            "/usr/local/lib/python3.11/dist-packages/stable_baselines3/common/on_policy_algorithm.py:150: UserWarning: You are trying to run PPO on the GPU, but it is primarily intended to run on the CPU when not using a CNN policy (you are using ActorCriticPolicy which should be a MlpPolicy). See https://github.com/DLR-RM/stable-baselines3/issues/1245 for more info. You can pass `device='cpu'` or `export CUDA_VISIBLE_DEVICES=` to force using the CPU.Note: The model will train, but the GPU utilization will be poor and the training might take longer than on CPU.\n",
            "  warnings.warn(\n"
          ]
        },
        {
          "output_type": "stream",
          "name": "stdout",
          "text": [
            "---------------------------------\n",
            "| rollout/           |          |\n",
            "|    ep_len_mean     | 200      |\n",
            "|    ep_rew_mean     | -200     |\n",
            "| time/              |          |\n",
            "|    fps             | 537      |\n",
            "|    iterations      | 1        |\n",
            "|    time_elapsed    | 3        |\n",
            "|    total_timesteps | 2048     |\n",
            "---------------------------------\n",
            "------------------------------------------\n",
            "| rollout/                |              |\n",
            "|    ep_len_mean          | 200          |\n",
            "|    ep_rew_mean          | -200         |\n",
            "| time/                   |              |\n",
            "|    fps                  | 485          |\n",
            "|    iterations           | 2            |\n",
            "|    time_elapsed         | 8            |\n",
            "|    total_timesteps      | 4096         |\n",
            "| train/                  |              |\n",
            "|    approx_kl            | 0.0016724698 |\n",
            "|    clip_fraction        | 0            |\n",
            "|    clip_range           | 0.2          |\n",
            "|    entropy_loss         | -1.1         |\n",
            "|    explained_variance   | -4.4e-05     |\n",
            "|    learning_rate        | 0.0003       |\n",
            "|    loss                 | 15.7         |\n",
            "|    n_updates            | 10           |\n",
            "|    policy_gradient_loss | -0.000298    |\n",
            "|    value_loss           | 137          |\n",
            "------------------------------------------\n",
            "-----------------------------------------\n",
            "| rollout/                |             |\n",
            "|    ep_len_mean          | 200         |\n",
            "|    ep_rew_mean          | -200        |\n",
            "| time/                   |             |\n",
            "|    fps                  | 480         |\n",
            "|    iterations           | 3           |\n",
            "|    time_elapsed         | 12          |\n",
            "|    total_timesteps      | 6144        |\n",
            "| train/                  |             |\n",
            "|    approx_kl            | 0.007040658 |\n",
            "|    clip_fraction        | 0.00166     |\n",
            "|    clip_range           | 0.2         |\n",
            "|    entropy_loss         | -1.09       |\n",
            "|    explained_variance   | -0.0168     |\n",
            "|    learning_rate        | 0.0003      |\n",
            "|    loss                 | 12.7        |\n",
            "|    n_updates            | 20          |\n",
            "|    policy_gradient_loss | -0.00131    |\n",
            "|    value_loss           | 88.3        |\n",
            "-----------------------------------------\n",
            "------------------------------------------\n",
            "| rollout/                |              |\n",
            "|    ep_len_mean          | 200          |\n",
            "|    ep_rew_mean          | -200         |\n",
            "| time/                   |              |\n",
            "|    fps                  | 483          |\n",
            "|    iterations           | 4            |\n",
            "|    time_elapsed         | 16           |\n",
            "|    total_timesteps      | 8192         |\n",
            "| train/                  |              |\n",
            "|    approx_kl            | 0.0036115719 |\n",
            "|    clip_fraction        | 0            |\n",
            "|    clip_range           | 0.2          |\n",
            "|    entropy_loss         | -1.08        |\n",
            "|    explained_variance   | -0.00481     |\n",
            "|    learning_rate        | 0.0003       |\n",
            "|    loss                 | 16.7         |\n",
            "|    n_updates            | 30           |\n",
            "|    policy_gradient_loss | -0.000307    |\n",
            "|    value_loss           | 84.2         |\n",
            "------------------------------------------\n",
            "------------------------------------------\n",
            "| rollout/                |              |\n",
            "|    ep_len_mean          | 200          |\n",
            "|    ep_rew_mean          | -200         |\n",
            "| time/                   |              |\n",
            "|    fps                  | 487          |\n",
            "|    iterations           | 5            |\n",
            "|    time_elapsed         | 21           |\n",
            "|    total_timesteps      | 10240        |\n",
            "| train/                  |              |\n",
            "|    approx_kl            | 0.0008682372 |\n",
            "|    clip_fraction        | 0            |\n",
            "|    clip_range           | 0.2          |\n",
            "|    entropy_loss         | -1.08        |\n",
            "|    explained_variance   | 0.000743     |\n",
            "|    learning_rate        | 0.0003       |\n",
            "|    loss                 | 12.7         |\n",
            "|    n_updates            | 40           |\n",
            "|    policy_gradient_loss | 9.22e-05     |\n",
            "|    value_loss           | 69.3         |\n",
            "------------------------------------------\n",
            "----------------------------------------\n",
            "| rollout/                |            |\n",
            "|    ep_len_mean          | 200        |\n",
            "|    ep_rew_mean          | -200       |\n",
            "| time/                   |            |\n",
            "|    fps                  | 480        |\n",
            "|    iterations           | 6          |\n",
            "|    time_elapsed         | 25         |\n",
            "|    total_timesteps      | 12288      |\n",
            "| train/                  |            |\n",
            "|    approx_kl            | 0.00775551 |\n",
            "|    clip_fraction        | 0.00693    |\n",
            "|    clip_range           | 0.2        |\n",
            "|    entropy_loss         | -1.08      |\n",
            "|    explained_variance   | -0.000249  |\n",
            "|    learning_rate        | 0.0003     |\n",
            "|    loss                 | 8.64       |\n",
            "|    n_updates            | 50         |\n",
            "|    policy_gradient_loss | -0.00131   |\n",
            "|    value_loss           | 54.5       |\n",
            "----------------------------------------\n",
            "----------------------------------------\n",
            "| rollout/                |            |\n",
            "|    ep_len_mean          | 200        |\n",
            "|    ep_rew_mean          | -200       |\n",
            "| time/                   |            |\n",
            "|    fps                  | 484        |\n",
            "|    iterations           | 7          |\n",
            "|    time_elapsed         | 29         |\n",
            "|    total_timesteps      | 14336      |\n",
            "| train/                  |            |\n",
            "|    approx_kl            | 0.00837204 |\n",
            "|    clip_fraction        | 0.00205    |\n",
            "|    clip_range           | 0.2        |\n",
            "|    entropy_loss         | -1.09      |\n",
            "|    explained_variance   | -0.00397   |\n",
            "|    learning_rate        | 0.0003     |\n",
            "|    loss                 | 5.9        |\n",
            "|    n_updates            | 60         |\n",
            "|    policy_gradient_loss | -0.00146   |\n",
            "|    value_loss           | 41.7       |\n",
            "----------------------------------------\n",
            "------------------------------------------\n",
            "| rollout/                |              |\n",
            "|    ep_len_mean          | 200          |\n",
            "|    ep_rew_mean          | -200         |\n",
            "| time/                   |              |\n",
            "|    fps                  | 487          |\n",
            "|    iterations           | 8            |\n",
            "|    time_elapsed         | 33           |\n",
            "|    total_timesteps      | 16384        |\n",
            "| train/                  |              |\n",
            "|    approx_kl            | 0.0071792486 |\n",
            "|    clip_fraction        | 0.00649      |\n",
            "|    clip_range           | 0.2          |\n",
            "|    entropy_loss         | -1.09        |\n",
            "|    explained_variance   | 0.000884     |\n",
            "|    learning_rate        | 0.0003       |\n",
            "|    loss                 | 2.89         |\n",
            "|    n_updates            | 70           |\n",
            "|    policy_gradient_loss | -0.0021      |\n",
            "|    value_loss           | 30.5         |\n",
            "------------------------------------------\n",
            "------------------------------------------\n",
            "| rollout/                |              |\n",
            "|    ep_len_mean          | 200          |\n",
            "|    ep_rew_mean          | -200         |\n",
            "| time/                   |              |\n",
            "|    fps                  | 483          |\n",
            "|    iterations           | 9            |\n",
            "|    time_elapsed         | 38           |\n",
            "|    total_timesteps      | 18432        |\n",
            "| train/                  |              |\n",
            "|    approx_kl            | 0.0061277105 |\n",
            "|    clip_fraction        | 9.77e-05     |\n",
            "|    clip_range           | 0.2          |\n",
            "|    entropy_loss         | -1.1         |\n",
            "|    explained_variance   | -0.000758    |\n",
            "|    learning_rate        | 0.0003       |\n",
            "|    loss                 | 1.27         |\n",
            "|    n_updates            | 80           |\n",
            "|    policy_gradient_loss | -0.000911    |\n",
            "|    value_loss           | 21.3         |\n",
            "------------------------------------------\n",
            "------------------------------------------\n",
            "| rollout/                |              |\n",
            "|    ep_len_mean          | 200          |\n",
            "|    ep_rew_mean          | -200         |\n",
            "| time/                   |              |\n",
            "|    fps                  | 485          |\n",
            "|    iterations           | 10           |\n",
            "|    time_elapsed         | 42           |\n",
            "|    total_timesteps      | 20480        |\n",
            "| train/                  |              |\n",
            "|    approx_kl            | 0.0047244923 |\n",
            "|    clip_fraction        | 0.0041       |\n",
            "|    clip_range           | 0.2          |\n",
            "|    entropy_loss         | -1.08        |\n",
            "|    explained_variance   | -0.00194     |\n",
            "|    learning_rate        | 0.0003       |\n",
            "|    loss                 | 0.338        |\n",
            "|    n_updates            | 90           |\n",
            "|    policy_gradient_loss | -0.000543    |\n",
            "|    value_loss           | 14           |\n",
            "------------------------------------------\n",
            "-----------------------------------------\n",
            "| rollout/                |             |\n",
            "|    ep_len_mean          | 200         |\n",
            "|    ep_rew_mean          | -200        |\n",
            "| time/                   |             |\n",
            "|    fps                  | 487         |\n",
            "|    iterations           | 11          |\n",
            "|    time_elapsed         | 46          |\n",
            "|    total_timesteps      | 22528       |\n",
            "| train/                  |             |\n",
            "|    approx_kl            | 0.012901077 |\n",
            "|    clip_fraction        | 0.0104      |\n",
            "|    clip_range           | 0.2         |\n",
            "|    entropy_loss         | -1.05       |\n",
            "|    explained_variance   | 0.000267    |\n",
            "|    learning_rate        | 0.0003      |\n",
            "|    loss                 | 0.55        |\n",
            "|    n_updates            | 100         |\n",
            "|    policy_gradient_loss | -0.000479   |\n",
            "|    value_loss           | 9.14        |\n",
            "-----------------------------------------\n",
            "-----------------------------------------\n",
            "| rollout/                |             |\n",
            "|    ep_len_mean          | 200         |\n",
            "|    ep_rew_mean          | -200        |\n",
            "| time/                   |             |\n",
            "|    fps                  | 484         |\n",
            "|    iterations           | 12          |\n",
            "|    time_elapsed         | 50          |\n",
            "|    total_timesteps      | 24576       |\n",
            "| train/                  |             |\n",
            "|    approx_kl            | 0.011407546 |\n",
            "|    clip_fraction        | 0.0381      |\n",
            "|    clip_range           | 0.2         |\n",
            "|    entropy_loss         | -0.996      |\n",
            "|    explained_variance   | -0.00201    |\n",
            "|    learning_rate        | 0.0003      |\n",
            "|    loss                 | 0.556       |\n",
            "|    n_updates            | 110         |\n",
            "|    policy_gradient_loss | -0.00228    |\n",
            "|    value_loss           | 5.85        |\n",
            "-----------------------------------------\n",
            "----------------------------------------\n",
            "| rollout/                |            |\n",
            "|    ep_len_mean          | 200        |\n",
            "|    ep_rew_mean          | -200       |\n",
            "| time/                   |            |\n",
            "|    fps                  | 485        |\n",
            "|    iterations           | 13         |\n",
            "|    time_elapsed         | 54         |\n",
            "|    total_timesteps      | 26624      |\n",
            "| train/                  |            |\n",
            "|    approx_kl            | 0.00788901 |\n",
            "|    clip_fraction        | 0.00605    |\n",
            "|    clip_range           | 0.2        |\n",
            "|    entropy_loss         | -1         |\n",
            "|    explained_variance   | -0.000669  |\n",
            "|    learning_rate        | 0.0003     |\n",
            "|    loss                 | 0.153      |\n",
            "|    n_updates            | 120        |\n",
            "|    policy_gradient_loss | -0.00047   |\n",
            "|    value_loss           | 3.67       |\n",
            "----------------------------------------\n"
          ]
        }
      ],
      "source": [
        "from stable_baselines3 import PPO\n",
        "from stable_baselines3.common.env_util import make_vec_env\n",
        "\n",
        "# Parallel environments can bet set but Hamid set 1 env\n",
        "vec_env = make_vec_env(\"MountainCar-v0\", n_envs=1)\n",
        "\n",
        "model = PPO(\"MlpPolicy\", vec_env, verbose=1)\n",
        "model.learn(total_timesteps=25000)\n",
        "model.save(\"ppo_MountainCar\")\n",
        "\n",
        "del model # remove to demonstrate saving and loading\n"
      ]
    },
    {
      "cell_type": "markdown",
      "metadata": {
        "id": "n5URzrgeBjA2"
      },
      "source": [
        "**Loading saved model**\n",
        "\n",
        "After training model using PPO and saving it, Hamid started to load the model with the name he saved in cell above:"
      ]
    },
    {
      "cell_type": "code",
      "execution_count": 9,
      "metadata": {
        "id": "qHRHFr9-6cgt",
        "outputId": "d5b094ea-cc7c-4fc2-81ab-4cd2f513a2d1",
        "colab": {
          "base_uri": "https://localhost:8080/"
        }
      },
      "outputs": [
        {
          "output_type": "stream",
          "name": "stderr",
          "text": [
            "/usr/local/lib/python3.11/dist-packages/ipykernel/ipkernel.py:283: DeprecationWarning: `should_run_async` will not call `transform_cell` automatically in the future. Please pass the result to `transformed_cell` argument and any exception that happen during thetransform in `preprocessing_exc_tuple` in IPython 7.17 and above.\n",
            "  and should_run_async(code)\n"
          ]
        },
        {
          "output_type": "stream",
          "name": "stdout",
          "text": [
            "[[-0.46187356  0.00054371]] [-1.] [False] [{'TimeLimit.truncated': False}]\n",
            "[[-0.46079016  0.00108341]] [-1.] [False] [{'TimeLimit.truncated': False}]\n",
            "[[-0.460175    0.00061513]] [-1.] [False] [{'TimeLimit.truncated': False}]\n",
            "[[-4.6003270e-01  1.4231734e-04]] [-1.] [False] [{'TimeLimit.truncated': False}]\n",
            "[[-0.46136424 -0.00133154]] [-1.] [False] [{'TimeLimit.truncated': False}]\n",
            "[[-0.46315983 -0.0017956 ]] [-1.] [False] [{'TimeLimit.truncated': False}]\n",
            "[[-0.46440625 -0.00124641]] [-1.] [False] [{'TimeLimit.truncated': False}]\n",
            "[[-0.46609426 -0.00168802]] [-1.] [False] [{'TimeLimit.truncated': False}]\n",
            "[[-0.46821144 -0.00211717]] [-1.] [False] [{'TimeLimit.truncated': False}]\n",
            "[[-0.4717421  -0.00353067]] [-1.] [False] [{'TimeLimit.truncated': False}]\n",
            "[[-0.47466013 -0.00291802]] [-1.] [False] [{'TimeLimit.truncated': False}]\n",
            "[[-0.47794387 -0.00328375]] [-1.] [False] [{'TimeLimit.truncated': False}]\n",
            "[[-0.48056898 -0.00262509]] [-1.] [False] [{'TimeLimit.truncated': False}]\n",
            "[[-0.48451588 -0.00394692]] [-1.] [False] [{'TimeLimit.truncated': False}]\n",
            "[[-0.48775524 -0.00323937]] [-1.] [False] [{'TimeLimit.truncated': False}]\n",
            "[[-0.49226293 -0.00450768]] [-1.] [False] [{'TimeLimit.truncated': False}]\n",
            "[[-0.49800527 -0.00574235]] [-1.] [False] [{'TimeLimit.truncated': False}]\n",
            "[[-0.5049394  -0.00693411]] [-1.] [False] [{'TimeLimit.truncated': False}]\n",
            "[[-0.5110134  -0.00607398]] [-1.] [False] [{'TimeLimit.truncated': False}]\n",
            "[[-0.5161817  -0.00516835]] [-1.] [False] [{'TimeLimit.truncated': False}]\n",
            "[[-0.5224057  -0.00622398]] [-1.] [False] [{'TimeLimit.truncated': False}]\n",
            "[[-0.52963865 -0.00723292]] [-1.] [False] [{'TimeLimit.truncated': False}]\n",
            "[[-0.53582627 -0.00618763]] [-1.] [False] [{'TimeLimit.truncated': False}]\n",
            "[[-0.5409222  -0.00509594]] [-1.] [False] [{'TimeLimit.truncated': False}]\n",
            "[[-0.5468883  -0.00596607]] [-1.] [False] [{'TimeLimit.truncated': False}]\n",
            "[[-0.55267984 -0.00579155]] [-1.] [False] [{'TimeLimit.truncated': False}]\n",
            "[[-0.55725354 -0.00457371]] [-1.] [False] [{'TimeLimit.truncated': False}]\n",
            "[[-0.5625753  -0.00532173]] [-1.] [False] [{'TimeLimit.truncated': False}]\n",
            "[[-0.56860536 -0.00603007]] [-1.] [False] [{'TimeLimit.truncated': False}]\n",
            "[[-0.5752989  -0.00669355]] [-1.] [False] [{'TimeLimit.truncated': False}]\n",
            "[[-0.5806062  -0.00530735]] [-1.] [False] [{'TimeLimit.truncated': False}]\n",
            "[[-0.5844881  -0.00388188]] [-1.] [False] [{'TimeLimit.truncated': False}]\n",
            "[[-0.58691585 -0.00242774]] [-1.] [False] [{'TimeLimit.truncated': False}]\n",
            "[[-0.58787155 -0.00095571]] [-1.] [False] [{'TimeLimit.truncated': False}]\n",
            "[[-5.8834821e-01 -4.7665014e-04]] [-1.] [False] [{'TimeLimit.truncated': False}]\n",
            "[[-0.5893423  -0.00099408]] [-1.] [False] [{'TimeLimit.truncated': False}]\n",
            "[[-0.5908465  -0.00150419]] [-1.] [False] [{'TimeLimit.truncated': False}]\n",
            "[[-0.59284973 -0.00200325]] [-1.] [False] [{'TimeLimit.truncated': False}]\n",
            "[[-5.9333736e-01 -4.8759382e-04]] [-1.] [False] [{'TimeLimit.truncated': False}]\n",
            "[[-5.9330571e-01  3.1638054e-05]] [-1.] [False] [{'TimeLimit.truncated': False}]\n",
            "[[-0.59175503  0.00155064]] [-1.] [False] [{'TimeLimit.truncated': False}]\n",
            "[[-0.5886968   0.00305826]] [-1.] [False] [{'TimeLimit.truncated': False}]\n",
            "[[-0.5841534   0.00454339]] [-1.] [False] [{'TimeLimit.truncated': False}]\n",
            "[[-0.5781584   0.00599506]] [-1.] [False] [{'TimeLimit.truncated': False}]\n",
            "[[-0.5707559   0.00740243]] [-1.] [False] [{'TimeLimit.truncated': False}]\n",
            "[[-0.562001    0.00875493]] [-1.] [False] [{'TimeLimit.truncated': False}]\n",
            "[[-0.55395865  0.00804231]] [-1.] [False] [{'TimeLimit.truncated': False}]\n",
            "[[-0.545689   0.0082697]] [-1.] [False] [{'TimeLimit.truncated': False}]\n",
            "[[-0.53725374  0.00843525]] [-1.] [False] [{'TimeLimit.truncated': False}]\n",
            "[[-0.5287161   0.00853763]] [-1.] [False] [{'TimeLimit.truncated': False}]\n",
            "[[-0.5201401   0.00857601]] [-1.] [False] [{'TimeLimit.truncated': False}]\n",
            "[[-0.51259     0.00755007]] [-1.] [False] [{'TimeLimit.truncated': False}]\n",
            "[[-0.5051225   0.00746752]] [-1.] [False] [{'TimeLimit.truncated': False}]\n",
            "[[-0.49679348  0.00832902]] [-1.] [False] [{'TimeLimit.truncated': False}]\n",
            "[[-0.48766527  0.0091282 ]] [-1.] [False] [{'TimeLimit.truncated': False}]\n",
            "[[-0.47780606  0.00985922]] [-1.] [False] [{'TimeLimit.truncated': False}]\n",
            "[[-0.4672892   0.01051685]] [-1.] [False] [{'TimeLimit.truncated': False}]\n",
            "[[-0.45619267  0.01109654]] [-1.] [False] [{'TimeLimit.truncated': False}]\n",
            "[[-0.44659823  0.00959443]] [-1.] [False] [{'TimeLimit.truncated': False}]\n",
            "[[-0.4365762   0.01002205]] [-1.] [False] [{'TimeLimit.truncated': False}]\n",
            "[[-0.42719942  0.00937677]] [-1.] [False] [{'TimeLimit.truncated': False}]\n",
            "[[-0.4175356   0.00966381]] [-1.] [False] [{'TimeLimit.truncated': False}]\n",
            "[[-0.40865391  0.00888169]] [-1.] [False] [{'TimeLimit.truncated': False}]\n",
            "[[-0.40061733  0.00803659]] [-1.] [False] [{'TimeLimit.truncated': False}]\n",
            "[[-0.3944823   0.00613501]] [-1.] [False] [{'TimeLimit.truncated': False}]\n",
            "[[-0.38929164  0.00519067]] [-1.] [False] [{'TimeLimit.truncated': False}]\n",
            "[[-0.38408124  0.0052104 ]] [-1.] [False] [{'TimeLimit.truncated': False}]\n",
            "[[-0.37988696  0.00419431]] [-1.] [False] [{'TimeLimit.truncated': False}]\n",
            "[[-0.3777374   0.00214955]] [-1.] [False] [{'TimeLimit.truncated': False}]\n",
            "[[-3.7764722e-01  9.0167930e-05]] [-1.] [False] [{'TimeLimit.truncated': False}]\n",
            "[[-0.37861705 -0.00096983]] [-1.] [False] [{'TimeLimit.truncated': False}]\n",
            "[[-0.3806403  -0.00202323]] [-1.] [False] [{'TimeLimit.truncated': False}]\n",
            "[[-0.38270313 -0.00206285]] [-1.] [False] [{'TimeLimit.truncated': False}]\n",
            "[[-0.38479152 -0.00208838]] [-1.] [False] [{'TimeLimit.truncated': False}]\n",
            "[[-0.38689113 -0.00209961]] [-1.] [False] [{'TimeLimit.truncated': False}]\n",
            "[[-0.38898754 -0.00209641]] [-1.] [False] [{'TimeLimit.truncated': False}]\n",
            "[[-0.39306632 -0.00407878]] [-1.] [False] [{'TimeLimit.truncated': False}]\n",
            "[[-0.39809924 -0.00503294]] [-1.] [False] [{'TimeLimit.truncated': False}]\n",
            "[[-0.40405136 -0.00595211]] [-1.] [False] [{'TimeLimit.truncated': False}]\n",
            "[[-0.40988097 -0.00582962]] [-1.] [False] [{'TimeLimit.truncated': False}]\n",
            "[[-0.415547   -0.00566605]] [-1.] [False] [{'TimeLimit.truncated': False}]\n",
            "[[-0.42300934 -0.00746232]] [-1.] [False] [{'TimeLimit.truncated': False}]\n",
            "[[-0.43221468 -0.00920534]] [-1.] [False] [{'TimeLimit.truncated': False}]\n",
            "[[-0.44309685 -0.01088217]] [-1.] [False] [{'TimeLimit.truncated': False}]\n",
            "[[-0.45457694 -0.01148008]] [-1.] [False] [{'TimeLimit.truncated': False}]\n",
            "[[-0.466571   -0.01199406]] [-1.] [False] [{'TimeLimit.truncated': False}]\n",
            "[[-0.47899067 -0.01241968]] [-1.] [False] [{'TimeLimit.truncated': False}]\n",
            "[[-0.49274394 -0.01375324]] [-1.] [False] [{'TimeLimit.truncated': False}]\n",
            "[[-0.50672823 -0.01398433]] [-1.] [False] [{'TimeLimit.truncated': False}]\n",
            "[[-0.52083904 -0.0141108 ]] [-1.] [False] [{'TimeLimit.truncated': False}]\n",
            "[[-0.53397053 -0.0131315 ]] [-1.] [False] [{'TimeLimit.truncated': False}]\n",
            "[[-0.54602426 -0.01205372]] [-1.] [False] [{'TimeLimit.truncated': False}]\n",
            "[[-0.5579099  -0.01188566]] [-1.] [False] [{'TimeLimit.truncated': False}]\n",
            "[[-0.5705387  -0.01262878]] [-1.] [False] [{'TimeLimit.truncated': False}]\n",
            "[[-0.5838166  -0.01327789]] [-1.] [False] [{'TimeLimit.truncated': False}]\n",
            "[[-0.5976453  -0.01382871]] [-1.] [False] [{'TimeLimit.truncated': False}]\n",
            "[[-0.6119232  -0.01427792]] [-1.] [False] [{'TimeLimit.truncated': False}]\n",
            "[[-0.62654644 -0.01462321]] [-1.] [False] [{'TimeLimit.truncated': False}]\n",
            "[[-0.6394097  -0.01286332]] [-1.] [False] [{'TimeLimit.truncated': False}]\n",
            "[[-0.65242183 -0.0130121 ]] [-1.] [False] [{'TimeLimit.truncated': False}]\n",
            "[[-0.66549164 -0.0130698 ]] [-1.] [False] [{'TimeLimit.truncated': False}]\n",
            "[[-0.6785291  -0.01303746]] [-1.] [False] [{'TimeLimit.truncated': False}]\n",
            "[[-0.69044596 -0.01191687]] [-1.] [False] [{'TimeLimit.truncated': False}]\n",
            "[[-0.7011631  -0.01071711]] [-1.] [False] [{'TimeLimit.truncated': False}]\n",
            "[[-0.71161056 -0.01044748]] [-1.] [False] [{'TimeLimit.truncated': False}]\n",
            "[[-0.71972156 -0.00811097]] [-1.] [False] [{'TimeLimit.truncated': False}]\n",
            "[[-0.72544503 -0.00572346]] [-1.] [False] [{'TimeLimit.truncated': False}]\n",
            "[[-0.72974545 -0.00430045]] [-1.] [False] [{'TimeLimit.truncated': False}]\n",
            "[[-0.7335965  -0.00385104]] [-1.] [False] [{'TimeLimit.truncated': False}]\n",
            "[[-0.73597467 -0.00237819]] [-1.] [False] [{'TimeLimit.truncated': False}]\n",
            "[[-0.7378656  -0.00189097]] [-1.] [False] [{'TimeLimit.truncated': False}]\n",
            "[[-7.3825800e-01 -3.9236856e-04]] [-1.] [False] [{'TimeLimit.truncated': False}]\n",
            "[[-7.38149405e-01  1.08584514e-04]] [-1.] [False] [{'TimeLimit.truncated': False}]\n",
            "[[-0.73554057  0.00260889]] [-1.] [False] [{'TimeLimit.truncated': False}]\n",
            "[[-0.73144704  0.00409349]] [-1.] [False] [{'TimeLimit.truncated': False}]\n",
            "[[-0.7268938   0.00455328]] [-1.] [False] [{'TimeLimit.truncated': False}]\n",
            "[[-0.72190857  0.00498522]] [-1.] [False] [{'TimeLimit.truncated': False}]\n",
            "[[-0.71452224  0.00738634]] [-1.] [False] [{'TimeLimit.truncated': False}]\n",
            "[[-0.70678097  0.00774125]] [-1.] [False] [{'TimeLimit.truncated': False}]\n",
            "[[-0.69673395  0.010047  ]] [-1.] [False] [{'TimeLimit.truncated': False}]\n",
            "[[-0.68444604  0.01228791]] [-1.] [False] [{'TimeLimit.truncated': False}]\n",
            "[[-0.66999805  0.01444799]] [-1.] [False] [{'TimeLimit.truncated': False}]\n",
            "[[-0.6544871   0.01551102]] [-1.] [False] [{'TimeLimit.truncated': False}]\n",
            "[[-0.6380194   0.01646765]] [-1.] [False] [{'TimeLimit.truncated': False}]\n",
            "[[-0.62171036  0.01630905]] [-1.] [False] [{'TimeLimit.truncated': False}]\n",
            "[[-0.603676    0.01803431]] [-1.] [False] [{'TimeLimit.truncated': False}]\n",
            "[[-0.5850469   0.01862913]] [-1.] [False] [{'TimeLimit.truncated': False}]\n",
            "[[-0.5659595   0.01908739]] [-1.] [False] [{'TimeLimit.truncated': False}]\n",
            "[[-0.5455553   0.02040424]] [-1.] [False] [{'TimeLimit.truncated': False}]\n",
            "[[-0.52398646  0.02156879]] [-1.] [False] [{'TimeLimit.truncated': False}]\n",
            "[[-0.5014148  0.0225717]] [-1.] [False] [{'TimeLimit.truncated': False}]\n",
            "[[-0.47900933  0.02240544]] [-1.] [False] [{'TimeLimit.truncated': False}]\n",
            "[[-0.45793733  0.02107202]] [-1.] [False] [{'TimeLimit.truncated': False}]\n",
            "[[-0.43835458  0.01958274]] [-1.] [False] [{'TimeLimit.truncated': False}]\n",
            "[[-0.41840422  0.01995035]] [-1.] [False] [{'TimeLimit.truncated': False}]\n",
            "[[-0.39922982  0.01917442]] [-1.] [False] [{'TimeLimit.truncated': False}]\n",
            "[[-0.38096666  0.01826315]] [-1.] [False] [{'TimeLimit.truncated': False}]\n",
            "[[-0.3627409   0.01822575]] [-1.] [False] [{'TimeLimit.truncated': False}]\n",
            "[[-0.3446753  0.0180656]] [-1.] [False] [{'TimeLimit.truncated': False}]\n",
            "[[-0.32888812  0.01578719]] [-1.] [False] [{'TimeLimit.truncated': False}]\n",
            "[[-0.3154796  0.0134085]] [-1.] [False] [{'TimeLimit.truncated': False}]\n",
            "[[-0.30353254  0.01194706]] [-1.] [False] [{'TimeLimit.truncated': False}]\n",
            "[[-0.29411867  0.00941388]] [-1.] [False] [{'TimeLimit.truncated': False}]\n",
            "[[-0.28729314  0.00682555]] [-1.] [False] [{'TimeLimit.truncated': False}]\n",
            "[[-0.28309512  0.00419802]] [-1.] [False] [{'TimeLimit.truncated': False}]\n",
            "[[-0.2805484   0.00254672]] [-1.] [False] [{'TimeLimit.truncated': False}]\n",
            "[[-0.27866727  0.00188112]] [-1.] [False] [{'TimeLimit.truncated': False}]\n",
            "[[-0.27746224  0.00120504]] [-1.] [False] [{'TimeLimit.truncated': False}]\n",
            "[[-0.27893996 -0.00147774]] [-1.] [False] [{'TimeLimit.truncated': False}]\n",
            "[[-0.2810923  -0.00215231]] [-1.] [False] [{'TimeLimit.truncated': False}]\n",
            "[[-0.28390715 -0.00281486]] [-1.] [False] [{'TimeLimit.truncated': False}]\n",
            "[[-0.28836873 -0.00446158]] [-1.] [False] [{'TimeLimit.truncated': False}]\n",
            "[[-0.2944517  -0.00608298]] [-1.] [False] [{'TimeLimit.truncated': False}]\n",
            "[[-0.3011211  -0.00666939]] [-1.] [False] [{'TimeLimit.truncated': False}]\n",
            "[[-0.3103379  -0.00921682]] [-1.] [False] [{'TimeLimit.truncated': False}]\n",
            "[[-0.3200473  -0.00970937]] [-1.] [False] [{'TimeLimit.truncated': False}]\n",
            "[[-0.33219016 -0.01214288]] [-1.] [False] [{'TimeLimit.truncated': False}]\n",
            "[[-0.345691   -0.01350084]] [-1.] [False] [{'TimeLimit.truncated': False}]\n",
            "[[-0.3614637  -0.01577269]] [-1.] [False] [{'TimeLimit.truncated': False}]\n",
            "[[-0.37940502 -0.01794132]] [-1.] [False] [{'TimeLimit.truncated': False}]\n",
            "[[-0.3973944  -0.01798936]] [-1.] [False] [{'TimeLimit.truncated': False}]\n",
            "[[-0.41730782 -0.01991344]] [-1.] [False] [{'TimeLimit.truncated': False}]\n",
            "[[-0.43900502 -0.02169718]] [-1.] [False] [{'TimeLimit.truncated': False}]\n",
            "[[-0.46232986 -0.02332485]] [-1.] [False] [{'TimeLimit.truncated': False}]\n",
            "[[-0.48511162 -0.02278178]] [-1.] [False] [{'TimeLimit.truncated': False}]\n",
            "[[-0.50918144 -0.0240698 ]] [-1.] [False] [{'TimeLimit.truncated': False}]\n",
            "[[-0.53435934 -0.02517789]] [-1.] [False] [{'TimeLimit.truncated': False}]\n",
            "[[-0.55845654 -0.0240972 ]] [-1.] [False] [{'TimeLimit.truncated': False}]\n",
            "[[-0.5822928  -0.02383625]] [-1.] [False] [{'TimeLimit.truncated': False}]\n",
            "[[-0.6056911  -0.02339831]] [-1.] [False] [{'TimeLimit.truncated': False}]\n",
            "[[-0.6284799  -0.02278882]] [-1.] [False] [{'TimeLimit.truncated': False}]\n",
            "[[-0.649495   -0.02101513]] [-1.] [False] [{'TimeLimit.truncated': False}]\n",
            "[[-0.6685882 -0.0190932]] [-1.] [False] [{'TimeLimit.truncated': False}]\n",
            "[[-0.686628   -0.01803974]] [-1.] [False] [{'TimeLimit.truncated': False}]\n",
            "[[-0.70449317 -0.01786519]] [-1.] [False] [{'TimeLimit.truncated': False}]\n",
            "[[-0.7220673 -0.0175741]] [-1.] [False] [{'TimeLimit.truncated': False}]\n",
            "[[-0.73723924 -0.01517199]] [-1.] [False] [{'TimeLimit.truncated': False}]\n",
            "[[-0.7509164  -0.01367716]] [-1.] [False] [{'TimeLimit.truncated': False}]\n",
            "[[-0.7640178  -0.01310138]] [-1.] [False] [{'TimeLimit.truncated': False}]\n",
            "[[-0.77546835 -0.01145056]] [-1.] [False] [{'TimeLimit.truncated': False}]\n",
            "[[-0.7862046  -0.01073623]] [-1.] [False] [{'TimeLimit.truncated': False}]\n",
            "[[-0.79516876 -0.00896419]] [-1.] [False] [{'TimeLimit.truncated': False}]\n",
            "[[-0.80231416 -0.00714537]] [-1.] [False] [{'TimeLimit.truncated': False}]\n",
            "[[-0.80860436 -0.00629021]] [-1.] [False] [{'TimeLimit.truncated': False}]\n",
            "[[-0.8120081  -0.00340375]] [-1.] [False] [{'TimeLimit.truncated': False}]\n",
            "[[-0.81450874 -0.00250065]] [-1.] [False] [{'TimeLimit.truncated': False}]\n",
            "[[-0.81609416 -0.00158543]] [-1.] [False] [{'TimeLimit.truncated': False}]\n",
            "[[-8.1675678e-01 -6.6259346e-04]] [-1.] [False] [{'TimeLimit.truncated': False}]\n",
            "[[-8.1649333e-01  2.6341563e-04]] [-1.] [False] [{'TimeLimit.truncated': False}]\n",
            "[[-0.8153052   0.00118816]] [-1.] [False] [{'TimeLimit.truncated': False}]\n",
            "[[-0.812198    0.00310721]] [-1.] [False] [{'TimeLimit.truncated': False}]\n",
            "[[-0.8081867   0.00401125]] [-1.] [False] [{'TimeLimit.truncated': False}]\n",
            "[[-0.8022911   0.00589564]] [-1.] [False] [{'TimeLimit.truncated': False}]\n",
            "[[-0.7955404   0.00675069]] [-1.] [False] [{'TimeLimit.truncated': False}]\n",
            "[[-0.787969    0.00757142]] [-1.] [False] [{'TimeLimit.truncated': False}]\n",
            "[[-0.7786162   0.00935277]] [-1.] [False] [{'TimeLimit.truncated': False}]\n",
            "[[-0.766532   0.0120842]] [-1.] [False] [{'TimeLimit.truncated': False}]\n",
            "[[-0.75378287  0.01274914]] [-1.] [False] [{'TimeLimit.truncated': False}]\n",
            "[[-0.7404413   0.01334155]] [-1.] [False] [{'TimeLimit.truncated': False}]\n",
            "[[-0.58996767  0.        ]] [-1.] [ True] [{'episode': {'r': -200.0, 'l': 200, 't': 61.553236}, 'TimeLimit.truncated': True, 'terminal_observation': array([-0.72658575,  0.01385556], dtype=float32)}]\n"
          ]
        }
      ],
      "source": [
        "model = PPO.load(\"ppo_MountainCar\")\n",
        "\n",
        "obs = vec_env.reset()\n",
        "while True:\n",
        "    action, _states = model.predict(obs)\n",
        "    obs, rewards, dones, info = vec_env.step(action)\n",
        "    print(obs, rewards, dones, info)\n",
        "    if dones[0]:\n",
        "      break"
      ]
    },
    {
      "cell_type": "markdown",
      "metadata": {
        "id": "n-Jjj_0Q9hX_"
      },
      "source": [
        "# **Task 1: Solving Predefined Environments (45 points)**\n",
        "1.1. Choose two environments from the list which are implemented by  other developers and communities and train RL agents using stable-baselines3. Don't forget to check workshop notebook.\n",
        "\n",
        "**Environments:**\n",
        "- [CartPole](https://gymnasium.farama.org/environments/classic_control/cart_pole/)\n",
        "- [FrozenLake](https://gymnasium.farama.org/environments/toy_text/frozen_lake/)\n",
        "- [Taxi](https://gymnasium.farama.org/environments/toy_text/taxi/)\n",
        "- Flappy Bird (Custom env which you can google it)"
      ]
    },
    {
      "cell_type": "markdown",
      "metadata": {
        "id": "ryQkECp8hr9v"
      },
      "source": [
        "📊 1.2. Algorithm Comparison:\n",
        "\n",
        "\n",
        " Compare RL algorithms and results (at least two algorithms e.g., PPO, DQN) based on:\n",
        "- Total reward over time\n",
        "- Hyperparameters (check the docs)\n"
      ]
    },
    {
      "cell_type": "markdown",
      "metadata": {
        "id": "Kis3E_faEs6H"
      },
      "source": [
        "Env1 implementation. [ place for your code ]\n",
        "\n",
        "\n"
      ]
    },
    {
      "cell_type": "code",
      "execution_count": 10,
      "metadata": {
        "id": "ZHfbghaAEcp5"
      },
      "outputs": [],
      "source": [
        "# TODO's:\n",
        "# Import env 1\n",
        "# Train env 1\n",
        "# plot env1 total rewards on sepearate lines for each algorithm\n",
        "# modify hyperparameters and plot reward curves\n",
        "\n",
        "import matplotlib.pyplot as plt"
      ]
    },
    {
      "cell_type": "markdown",
      "metadata": {
        "id": "KQ5mY77EE9o3"
      },
      "source": [
        "Env2 implementation. [ place for your code ]"
      ]
    },
    {
      "cell_type": "code",
      "execution_count": 11,
      "metadata": {
        "id": "pcEAbUJ-ErwT"
      },
      "outputs": [],
      "source": [
        "# TODO's:\n",
        "# Import env 2\n",
        "# Train env 2\n",
        "# plot env2 total rewards on sepearate lines for each algorithm\n",
        "# modify hyperparameters and plot reward curves"
      ]
    },
    {
      "cell_type": "markdown",
      "metadata": {
        "id": "B9M73XwdSISN"
      },
      "source": [
        "Write a wrapper for changing reward function and plot the changes. (Bonus)"
      ]
    },
    {
      "cell_type": "code",
      "execution_count": 12,
      "metadata": {
        "id": "QXJhDfvXR6IO"
      },
      "outputs": [],
      "source": [
        "# Bonus TODO's: Your wrapper for reward function"
      ]
    },
    {
      "cell_type": "markdown",
      "metadata": {
        "id": "Py94B6gw9hYA"
      },
      "source": [
        "# **Task 2: Creating Custom Environment (45 points)**\n",
        "In this question, you are required to model **a custom 4*4 gridworld problem** as Markov Decision Processes (MDPs). You must define the following components:\n",
        "\n",
        "<img src=\"data:image/png;base64,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\" width=\"400\"/>\n",
        "\n",
        "- **State Space ($ S $)**: The set of all possible states the agent can be in.\n",
        "- **Action Space ($ A $)**: The set of all possible actions the agent can take.\n",
        "- **Reward Function ($ R $)**: The reward the agent receives for taking an action in a given state.\n",
        "- **Transition Probability ($ P $)**: The probability of transitioning to a new state given the current state and action. If the environment is deterministic, this can be omitted.\n",
        "\n",
        "After defining the MDP components, implement problem using the **Gymnasium standard API**. Then, test the environments using various reinforcement learning algorithms (e.g., Q-Learning, DQN, PPO) and evaluate their performance."
      ]
    },
    {
      "cell_type": "code",
      "execution_count": 13,
      "metadata": {
        "id": "hgkvovqQiB8c",
        "outputId": "75c97b0e-69dd-4f59-a199-0e4a824eacde",
        "colab": {
          "base_uri": "https://localhost:8080/",
          "height": 332
        }
      },
      "outputs": [
        {
          "output_type": "error",
          "ename": "NameError",
          "evalue": "name 'Any' is not defined",
          "traceback": [
            "\u001b[0;31m---------------------------------------------------------------------------\u001b[0m",
            "\u001b[0;31mNameError\u001b[0m                                 Traceback (most recent call last)",
            "\u001b[0;32m<ipython-input-13-d114888705c2>\u001b[0m in \u001b[0;36m<cell line: 0>\u001b[0;34m()\u001b[0m\n\u001b[1;32m      1\u001b[0m \u001b[0;31m# TODO: Defineing your custom env\u001b[0m\u001b[0;34m\u001b[0m\u001b[0;34m\u001b[0m\u001b[0m\n\u001b[0;32m----> 2\u001b[0;31m \u001b[0;32mclass\u001b[0m \u001b[0mYourAwesomeEnvironment\u001b[0m\u001b[0;34m(\u001b[0m\u001b[0mgym\u001b[0m\u001b[0;34m.\u001b[0m\u001b[0mEnv\u001b[0m\u001b[0;34m)\u001b[0m\u001b[0;34m:\u001b[0m\u001b[0;34m\u001b[0m\u001b[0;34m\u001b[0m\u001b[0m\n\u001b[0m\u001b[1;32m      3\u001b[0m     \u001b[0;32mdef\u001b[0m \u001b[0m__init__\u001b[0m\u001b[0;34m(\u001b[0m\u001b[0mself\u001b[0m\u001b[0;34m)\u001b[0m \u001b[0;34m->\u001b[0m \u001b[0;32mNone\u001b[0m\u001b[0;34m:\u001b[0m\u001b[0;34m\u001b[0m\u001b[0;34m\u001b[0m\u001b[0m\n\u001b[1;32m      4\u001b[0m         \u001b[0msuper\u001b[0m\u001b[0;34m(\u001b[0m\u001b[0;34m)\u001b[0m\u001b[0;34m.\u001b[0m\u001b[0m__init__\u001b[0m\u001b[0;34m(\u001b[0m\u001b[0;34m)\u001b[0m\u001b[0;34m\u001b[0m\u001b[0;34m\u001b[0m\u001b[0m\n\u001b[1;32m      5\u001b[0m         \u001b[0mself\u001b[0m\u001b[0;34m.\u001b[0m\u001b[0maction_space\u001b[0m \u001b[0;34m=\u001b[0m \u001b[0;34m...\u001b[0m\u001b[0;34m\u001b[0m\u001b[0;34m\u001b[0m\u001b[0m\n",
            "\u001b[0;32m<ipython-input-13-d114888705c2>\u001b[0m in \u001b[0;36mYourAwesomeEnvironment\u001b[0;34m()\u001b[0m\n\u001b[1;32m      7\u001b[0m \u001b[0;34m\u001b[0m\u001b[0m\n\u001b[1;32m      8\u001b[0m     def step(\n\u001b[0;32m----> 9\u001b[0;31m         \u001b[0mself\u001b[0m\u001b[0;34m,\u001b[0m \u001b[0maction\u001b[0m\u001b[0;34m:\u001b[0m \u001b[0mAny\u001b[0m\u001b[0;34m\u001b[0m\u001b[0;34m\u001b[0m\u001b[0m\n\u001b[0m\u001b[1;32m     10\u001b[0m     ) -> tuple[Any, SupportsFloat, bool, bool, dict[str, Any]]:\n\u001b[1;32m     11\u001b[0m         \u001b[0;32mreturn\u001b[0m \u001b[0msuper\u001b[0m\u001b[0;34m(\u001b[0m\u001b[0;34m)\u001b[0m\u001b[0;34m.\u001b[0m\u001b[0mstep\u001b[0m\u001b[0;34m(\u001b[0m\u001b[0maction\u001b[0m\u001b[0;34m)\u001b[0m\u001b[0;34m\u001b[0m\u001b[0;34m\u001b[0m\u001b[0m\n",
            "\u001b[0;31mNameError\u001b[0m: name 'Any' is not defined"
          ]
        }
      ],
      "source": [
        "# TODO: Defineing your custom env\n",
        "class YourAwesomeEnvironment(gym.Env):\n",
        "    def __init__(self) -> None:\n",
        "        super().__init__()\n",
        "        self.action_space = ...\n",
        "        self.observation_space = ...\n",
        "\n",
        "    def step(\n",
        "        self, action: Any\n",
        "    ) -> tuple[Any, SupportsFloat, bool, bool, dict[str, Any]]:\n",
        "        return super().step(action)\n",
        "\n",
        "    def reset(\n",
        "        self, *, seed: int | None = None, options: dict[str, Any] | None = None\n",
        "    ) -> tuple[Any, dict[str, Any]]:\n",
        "        return super().reset(seed=seed, options=options)\n",
        "\n",
        "    #Optional\n",
        "    def render(self):\n",
        "        return super().render()\n",
        "\n",
        "    def close(self):\n",
        "        return super().close()"
      ]
    },
    {
      "cell_type": "code",
      "execution_count": null,
      "metadata": {
        "id": "3FAu2qEd9hYA"
      },
      "outputs": [],
      "source": [
        "# TODO: Training agent on your env"
      ]
    },
    {
      "cell_type": "markdown",
      "metadata": {
        "id": "mjkzmYf_humq"
      },
      "source": [
        "📊 Algorithm Comparison\n",
        "Compare RL algorithms (e.g., PPO, DQN) based on:\n",
        "- Total reward over time\n",
        "- Sample efficiency\n",
        "- Hyperparameters\n"
      ]
    },
    {
      "cell_type": "code",
      "execution_count": null,
      "metadata": {
        "id": "3SmWitNGTDWz"
      },
      "outputs": [],
      "source": [
        "# TODO: Algorithm comparison code"
      ]
    },
    {
      "cell_type": "markdown",
      "metadata": {
        "id": "US_xeiGc9hYA"
      },
      "source": [
        "# **Task 3: Pygame 🎮 Tutorial & Custom RL Environment (Bonus)**\n",
        "\n",
        "In this bonus task, you will implement a custom RL environment using Pygame and make it Gym-compatible for training an RL agent. Pygame is widely used for 2D game development and can be an excellent tool for creating custom RL environments. You will start by learning basic Pygame concepts (game loop, rendering, input handling), then implement a simple grid-based environment where an agent moves toward a goal while avoiding obstacles. Finally, you will train an RL agent using Stable-Baselines3 (SB3) to solve the environment. If you’re looking for inspiration, consider recreating the Chrome Dino game 🦖 as an RL environment which will be introduced at workshop or future TA sessions, but feel free to explore your own ideas!"
      ]
    },
    {
      "cell_type": "markdown",
      "metadata": {
        "id": "EJQTmN6Q56lu"
      },
      "source": [
        "![preview.png](data:image/png;base64,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)"
      ]
    },
    {
      "cell_type": "code",
      "execution_count": null,
      "metadata": {
        "id": "fAzGwDFc56Bv"
      },
      "outputs": [],
      "source": []
    }
  ],
  "metadata": {
    "colab": {
      "provenance": []
    },
    "kernelspec": {
      "display_name": "Python 3",
      "language": "python",
      "name": "python3"
    },
    "language_info": {
      "codemirror_mode": {
        "name": "ipython",
        "version": 3
      },
      "file_extension": ".py",
      "mimetype": "text/x-python",
      "name": "python",
      "nbconvert_exporter": "python",
      "pygments_lexer": "ipython3",
      "version": "3.8"
    }
  },
  "nbformat": 4,
  "nbformat_minor": 0
}